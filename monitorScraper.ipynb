{
 "cells": [
  {
   "cell_type": "code",
   "execution_count": 1,
   "id": "f2d0406e",
   "metadata": {},
   "outputs": [],
   "source": [
    "import numpy as np\n",
    "import pandas as pd\n",
    "from bs4 import BeautifulSoup\n",
    "import requests\n",
    "from datetime import datetime"
   ]
  },
  {
   "cell_type": "code",
   "execution_count": 2,
   "id": "1b23f6a0",
   "metadata": {},
   "outputs": [],
   "source": [
    "df={}\n",
    "site=[]\n",
    "date=[]\n",
    "model=[]\n",
    "userRating=[]\n",
    "price=[]"
   ]
  },
  {
   "cell_type": "code",
   "execution_count": 3,
   "id": "41cee7df",
   "metadata": {},
   "outputs": [],
   "source": [
    "urls=[\"https://www.amazon.in/LG-Ultragear-Compatible-Monitor-27GL650F/dp/B091DF7JPW/ref=sr_1_5\",\"https://www.amazon.in/MSI-Optix-G273QF-Esports-Monitor/dp/B093LPCQGP/ref=sr_1_3\",\"https://www.amazon.in/Samsung-Odyssey-FreeSync-Premium-LF24G35TFWWXXL/dp/B08XBBGN7K/ref=sr_1_1_sspa\",\"https://www.amazon.in/Samsung-27-inch-Curved-Gaming-Monitor/dp/B08N1M6MCH/ref=sr_1_3\",\"https://www.amazon.in/BenQ-inch-Bezel-Monitor-Built/dp/B073NTCT4R/ref=sr_1_3\",\"https://www.amazon.in/Acer-Monitor-Response-Refresh-Speakers/dp/B09GYLKM14/ref=sr_1_3\"]"
   ]
  },
  {
   "cell_type": "code",
   "execution_count": 4,
   "id": "559b79c5",
   "metadata": {},
   "outputs": [],
   "source": [
    "for url in urls:\n",
    "    page=requests.get(url, headers = {'user-agent':'Mozilla/5.0 (Windows NT 6.1) AppleWebKit/537.36 (KHTML, like Gecko) Chrome/41.0.2228.0 Safari/537.36'})\n",
    "    soup=BeautifulSoup(page.content,'html.parser')\n",
    "    soup1=soup.find('div',{'id':'centerCol'})\n",
    "    site.append(\"Amazon\")\n",
    "    date.append(datetime.today().strftime('%Y-%m-%d'))\n",
    "#     print(soup1)\n",
    "    model.append(soup1.find('span',id=\"productTitle\").text.strip())\n",
    "    userRating.append(soup1.find('span',class_=\"a-icon-alt\").text.strip()[0:3])\n",
    "    if soup1.find('table', class_=\"a-lineitem a-align-top\") is None:\n",
    "        price.append('Unavailable')\n",
    "    else:\n",
    "        price.append(soup1.find('table', class_=\"a-lineitem a-align-top\").find_all('tr')[1].find('span',class_=\"a-offscreen\").text[1:])\n",
    "#     print('\\n')"
   ]
  },
  {
   "cell_type": "code",
   "execution_count": 5,
   "id": "5c155c23",
   "metadata": {},
   "outputs": [
    {
     "data": {
      "text/plain": [
       "(6, 6, 6, 6)"
      ]
     },
     "execution_count": 5,
     "metadata": {},
     "output_type": "execute_result"
    }
   ],
   "source": [
    "len(site),len(model),len(userRating),len(price)"
   ]
  },
  {
   "cell_type": "markdown",
   "id": "46d0f536",
   "metadata": {},
   "source": [
    "date"
   ]
  },
  {
   "cell_type": "code",
   "execution_count": 6,
   "id": "63e3cd8f",
   "metadata": {},
   "outputs": [],
   "source": [
    "df[\"Site\"]=site\n",
    "df[\"Date\"]=date\n",
    "df[\"Model\"]=model\n",
    "df[\"User Rating\"]=userRating\n",
    "df[\"Price\"]=price"
   ]
  },
  {
   "cell_type": "code",
   "execution_count": 7,
   "id": "2781425e",
   "metadata": {},
   "outputs": [],
   "source": [
    "df=pd.DataFrame(df)"
   ]
  },
  {
   "cell_type": "code",
   "execution_count": 8,
   "id": "b3f397d9",
   "metadata": {},
   "outputs": [
    {
     "data": {
      "text/html": [
       "<div>\n",
       "<style scoped>\n",
       "    .dataframe tbody tr th:only-of-type {\n",
       "        vertical-align: middle;\n",
       "    }\n",
       "\n",
       "    .dataframe tbody tr th {\n",
       "        vertical-align: top;\n",
       "    }\n",
       "\n",
       "    .dataframe thead th {\n",
       "        text-align: right;\n",
       "    }\n",
       "</style>\n",
       "<table border=\"1\" class=\"dataframe\">\n",
       "  <thead>\n",
       "    <tr style=\"text-align: right;\">\n",
       "      <th></th>\n",
       "      <th>Site</th>\n",
       "      <th>Date</th>\n",
       "      <th>Model</th>\n",
       "      <th>User Rating</th>\n",
       "      <th>Price</th>\n",
       "    </tr>\n",
       "  </thead>\n",
       "  <tbody>\n",
       "    <tr>\n",
       "      <th>0</th>\n",
       "      <td>Amazon</td>\n",
       "      <td>2022-05-03</td>\n",
       "      <td>LG Ultragear 68.5 cm (27-inch) IPS FHD, Gaming...</td>\n",
       "      <td>4.5</td>\n",
       "      <td>Unavailable</td>\n",
       "    </tr>\n",
       "    <tr>\n",
       "      <th>1</th>\n",
       "      <td>Amazon</td>\n",
       "      <td>2022-05-03</td>\n",
       "      <td>MSI Optix G273QF Esports Gaming IPS Monitor - ...</td>\n",
       "      <td>4.5</td>\n",
       "      <td>24,999.00</td>\n",
       "    </tr>\n",
       "    <tr>\n",
       "      <th>2</th>\n",
       "      <td>Amazon</td>\n",
       "      <td>2022-05-03</td>\n",
       "      <td>Samsung Odyssey 24 inches 60.4 cm 1920 x 1080 ...</td>\n",
       "      <td>4.4</td>\n",
       "      <td>16,399.00</td>\n",
       "    </tr>\n",
       "    <tr>\n",
       "      <th>3</th>\n",
       "      <td>Amazon</td>\n",
       "      <td>2022-05-03</td>\n",
       "      <td>Samsung Odyssey 27-inches - 68.4 cm 2560 x 144...</td>\n",
       "      <td>4.2</td>\n",
       "      <td>23,249.00</td>\n",
       "    </tr>\n",
       "    <tr>\n",
       "      <th>4</th>\n",
       "      <td>Amazon</td>\n",
       "      <td>2022-05-03</td>\n",
       "      <td>BenQ GW2780 27-inch 1080p FHD Eye-Care, IPS Mo...</td>\n",
       "      <td>4.4</td>\n",
       "      <td>14,990.00</td>\n",
       "    </tr>\n",
       "    <tr>\n",
       "      <th>5</th>\n",
       "      <td>Amazon</td>\n",
       "      <td>2022-05-03</td>\n",
       "      <td>Acer Nitro VG270 S 27 Inch Full HD (1920 x 108...</td>\n",
       "      <td>4.5</td>\n",
       "      <td>Unavailable</td>\n",
       "    </tr>\n",
       "  </tbody>\n",
       "</table>\n",
       "</div>"
      ],
      "text/plain": [
       "     Site        Date                                              Model  \\\n",
       "0  Amazon  2022-05-03  LG Ultragear 68.5 cm (27-inch) IPS FHD, Gaming...   \n",
       "1  Amazon  2022-05-03  MSI Optix G273QF Esports Gaming IPS Monitor - ...   \n",
       "2  Amazon  2022-05-03  Samsung Odyssey 24 inches 60.4 cm 1920 x 1080 ...   \n",
       "3  Amazon  2022-05-03  Samsung Odyssey 27-inches - 68.4 cm 2560 x 144...   \n",
       "4  Amazon  2022-05-03  BenQ GW2780 27-inch 1080p FHD Eye-Care, IPS Mo...   \n",
       "5  Amazon  2022-05-03  Acer Nitro VG270 S 27 Inch Full HD (1920 x 108...   \n",
       "\n",
       "  User Rating        Price  \n",
       "0         4.5  Unavailable  \n",
       "1         4.5    24,999.00  \n",
       "2         4.4    16,399.00  \n",
       "3         4.2    23,249.00  \n",
       "4         4.4    14,990.00  \n",
       "5         4.5  Unavailable  "
      ]
     },
     "execution_count": 8,
     "metadata": {},
     "output_type": "execute_result"
    }
   ],
   "source": [
    "df"
   ]
  },
  {
   "cell_type": "code",
   "execution_count": null,
   "id": "2885fdf9",
   "metadata": {},
   "outputs": [],
   "source": [
    "# for i in range(len(df)):\n",
    "#     print((df['Site'][i],df['Date'][i],df['Model'][i],df['User Rating'][i],df['Price'][i]))"
   ]
  },
  {
   "cell_type": "code",
   "execution_count": null,
   "id": "13a83036",
   "metadata": {},
   "outputs": [],
   "source": [
    "#df.to_csv('C:\\\\Users\\\\Kasturi Basu\\\\Downloads\\\\monitorData.csv',index=False) #run only first time with your system path and then comment out!"
   ]
  },
  {
   "cell_type": "code",
   "execution_count": 9,
   "id": "22a5d9d8",
   "metadata": {},
   "outputs": [],
   "source": [
    "#run this code block every day with your system path\n",
    "import csv\n",
    "\n",
    "with open(\"C:\\\\Users\\\\Kasturi Basu\\\\Downloads\\\\monitorData.csv\", 'a+', newline='', encoding='UTF8')as f:\n",
    "    writer=csv.writer(f)\n",
    "    for i in range(len(df)):\n",
    "        writer.writerow([df['Site'][i],df['Date'][i],df['Model'][i],df['User Rating'][i],df['Price'][i]])"
   ]
  },
  {
   "cell_type": "code",
   "execution_count": 10,
   "id": "43feb8d6",
   "metadata": {},
   "outputs": [],
   "source": [
    "#If run the above code everyday once, we'll get the price fluctualtion of the desired product."
   ]
  }
 ],
 "metadata": {
  "kernelspec": {
   "display_name": "Python 3 (ipykernel)",
   "language": "python",
   "name": "python3"
  },
  "language_info": {
   "codemirror_mode": {
    "name": "ipython",
    "version": 3
   },
   "file_extension": ".py",
   "mimetype": "text/x-python",
   "name": "python",
   "nbconvert_exporter": "python",
   "pygments_lexer": "ipython3",
   "version": "3.10.2"
  }
 },
 "nbformat": 4,
 "nbformat_minor": 5
}
